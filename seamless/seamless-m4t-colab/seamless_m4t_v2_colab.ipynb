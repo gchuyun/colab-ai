{
  "cells": [
    {
      "cell_type": "markdown",
      "metadata": {
        "id": "view-in-github"
      },
      "source": [
        "[![Open In Colab](https://colab.research.google.com/assets/colab-badge.svg)](https://colab.research.google.com/github/camenduru/seamless-m4t-colab/blob/main/seamless_m4t_v2_colab.ipynb)"
      ]
    },
    {
      "cell_type": "code",
      "execution_count": null,
      "metadata": {
        "id": "VjYy0F2gZIPR"
      },
      "outputs": [],
      "source": [
        "%cd /content\n",
        "!git clone -b dev https://github.com/gchuyun/colab-ai\n",
        "\n",
        "!pip install -q fairseq2 gradio\n",
        "!pip install -q https://huggingface.co/spaces/facebook/seamless-m4t-v2-large/resolve/main/whl/seamless_communication-1.0.0-py3-none-any.whl\n",
        "\n",
        "!wget https://huggingface.co/spaces/facebook/seamless-m4t-v2-large/resolve/main/assets/sample_input.mp3 -O /content/colab-ai/seamless/seamless-m4t-v2-large-hf/assets/sample_input.mp3\n",
        "!wget https://huggingface.co/spaces/facebook/seamless-m4t-v2-large/resolve/main/assets/sample_input_2.mp3 -O /content/colab-ai/seamless/seamless-m4t-v2-large-hf/assets/sample_input_2.mp3\n",
        "\n",
        "!apt -y install -qq aria2\n",
        "!aria2c --console-log-level=error -c -x 16 -s 16 -k 1M https://huggingface.co/facebook/seamless-m4t-v2-large/resolve/main/seamlessM4T_v2_large.pt -d /content/models -o seamlessM4T_v2_large.pt\n",
        "!aria2c --console-log-level=error -c -x 16 -s 16 -k 1M https://huggingface.co/facebook/seamless-m4t-v2-large/resolve/main/spm_char_lang38_tc.model -d /content/models -o spm_char_lang38_tc.model\n",
        "!aria2c --console-log-level=error -c -x 16 -s 16 -k 1M https://huggingface.co/facebook/seamless-m4t-v2-large/resolve/main/vocoder_v2.pt -d /content/models -o vocoder_v2.pt\n",
        "\n",
        "%cd /content/colab-ai/seamless/seamless-m4t-v2-large-hf\n",
        "!python app.py"
      ]
    }
  ],
  "metadata": {
    "accelerator": "GPU",
    "colab": {
      "gpuType": "T4",
      "provenance": []
    },
    "kernelspec": {
      "display_name": "Python 3",
      "name": "python3"
    },
    "language_info": {
      "name": "python"
    }
  },
  "nbformat": 4,
  "nbformat_minor": 0
}
